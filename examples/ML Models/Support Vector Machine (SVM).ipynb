{
 "cells": [
  {
   "cell_type": "markdown",
   "metadata": {},
   "source": [
    "# Support Vector Machines\n",
    "Classifing student success data by means of the [Support Vector Classifier](http://scikit-learn.org/stable/modules/generated/sklearn.svm.SVC.html) from the sklearn module."
   ]
  },
  {
   "cell_type": "markdown",
   "metadata": {},
   "source": [
    "## Import Data\n",
    "Import the data into a pandas dataframe. Get dummy variables for each categorical predictor in the data set and return the design matirx. Create a normalized and standardized design matrix as well to compare model preformance. Convert response variable to three classes *0 , 1,* and *2*."
   ]
  },
  {
   "cell_type": "code",
   "execution_count": null,
   "metadata": {},
   "outputs": [
    {
     "name": "stderr",
     "output_type": "stream",
     "text": [
      "C:\\Users\\006988889-SA\\Downloads\\conda\\lib\\site-packages\\sklearn\\utils\\validation.py:429: DataConversionWarning: Data with input dtype int64 was converted to float64 by the scale function.\n",
      "  warnings.warn(msg, _DataConversionWarning)\n",
      "C:\\Users\\006988889-SA\\Downloads\\conda\\lib\\site-packages\\sklearn\\utils\\validation.py:429: DataConversionWarning: Data with input dtype int64 was converted to float64 by the normalize function.\n",
      "  warnings.warn(msg, _DataConversionWarning)\n"
     ]
    }
   ],
   "source": [
    "import time\n",
    "import random\n",
    "import numpy as np\n",
    "import pandas as pd\n",
    "import matplotlib.pyplot as plt\n",
    "from sklearn.model_selection import train_test_split, cross_val_score\n",
    "from sklearn.feature_selection import SelectPercentile\n",
    "from sklearn.utils.extmath import cartesian\n",
    "from sklearn import preprocessing\n",
    "from sklearn import metrics, svm\n",
    "\n",
    "df = pd.read_csv('student-por2.csv')\n",
    "df = pd.get_dummies(df)#, drop_first=True)\n",
    "\n",
    "def response_conv(arr):\n",
    "    new = []\n",
    "    for i in arr:\n",
    "        if (i > 0 and i < 10):           # condition where student failed\n",
    "            new.append(0)                 \n",
    "                                          \n",
    "        elif (i >= 10):                   # condition where student passed\n",
    "            new.append(1)                 \n",
    "    \n",
    "        else:                             # condition where student received an incomplete\n",
    "            new.append(2)\n",
    "    return(new)                           # 1-dimensional response varibale returned\n",
    "\n",
    "X = df.drop('G3',1)\n",
    "y = response_conv(list(df.G3))\n",
    "\n",
    "select = SelectPercentile()\n",
    "newX = select.fit_transform(X,y)\n",
    "\n",
    "X_scale = preprocessing.scale(newX)\n",
    "X_norm = preprocessing.normalize(newX)\n",
    "\n",
    "#pd.DataFrame(X_norm).to_csv(\"norm.csv\")\n",
    "\n"
   ]
  },
  {
   "cell_type": "markdown",
   "metadata": {},
   "source": [
    "## Test/Training Sets and Optimal Penalty Parameter, Kernel, and Gamma\n",
    "To train the model and later test, we must split each design matrix and response vector into training and test sets. The fucntion *opt* finds the optimal parameters for *C*, *Gamma*, and *Kernel* to be used in the model. Optimal is decided based on the parameters used in the model that returns the smallest mean squared error."
   ]
  },
  {
   "cell_type": "code",
   "execution_count": null,
   "metadata": {
    "scrolled": true
   },
   "outputs": [],
   "source": [
    "random.seed(1)\n",
    "X1_train, X1_test, y1_train, y1_test = train_test_split(newX, y, test_size=0.33, random_state=42)\n",
    "X2_train, X2_test, y2_train, y2_test = train_test_split(X_scale, y, test_size=0.33, random_state=42)\n",
    "X3_train, X3_test, y3_train, y3_test = train_test_split(X_norm, y, test_size=0.33, random_state=42)\n",
    "start_time = time.time()\n",
    "combos = cartesian([['linear','rbf'],[0.1,1,10,100,1000],[0.1,0.01,0.001,0.0001]])\n",
    "def opt(X,y):\n",
    "    mse = []\n",
    "\n",
    "    for k,c,g in combos:\n",
    "        svc = svm.SVC(C=float(c),kernel=str(k),gamma=float(g),probability=True,decision_function_shape='ovo') #,probability=True\n",
    "        scores = cross_val_score(svc, X, y, cv=10, scoring='neg_mean_squared_error')\n",
    "        mse.append(scores.mean())\n",
    "    \n",
    "    #MSE = [1 - x for x in cv_scores]\n",
    "    opt_ = combos[mse.index(min(mse))]\n",
    "    return(opt_)\n",
    "\n",
    "k1,c1,g1 = opt(X1_train,y1_train)\n",
    "k2,c2,g2 = opt(X2_train,y2_train)\n",
    "k3,c3,g3 = opt(X3_train,y3_train)\n",
    "\n",
    "print (\"The optimal kernel, penalty parameter and gamma is %s, %r and %r respectively for Non-standardized design matrix.\" % (k1,float(c1),float(g1)))\n",
    "print (\"The optimal kernel, penalty parameter and gamma is %s, %r and %r respectively for standardized design matrix.\" % (k2,float(c2),float(g2)))\n",
    "print (\"The optimal kernel, penalty parameter and gamma is %s, %r and %r respectively for normalized design matrix.\" % (k3,float(c3),float(g3)))\n",
    "print(\"Run time: %r minutes\" % (round((int(time.time() - start_time)/60),2)))"
   ]
  },
  {
   "cell_type": "markdown",
   "metadata": {},
   "source": [
    "## Fit and Predict\n",
    "After tuning model parameters to be optimal we fit each design matrix to its optimal model. Predictions are made and returned in a data frame for comparison."
   ]
  },
  {
   "cell_type": "code",
   "execution_count": null,
   "metadata": {},
   "outputs": [],
   "source": [
    "SVM1 = svm.SVC(C=float(c1),kernel=str(k1),gamma=float(g1),decision_function_shape='ovo').fit(X1_train,y1_train)\n",
    "SVM2 = svm.SVC(C=float(c2),kernel=str(k2),gamma=float(g2),decision_function_shape='ovo').fit(X2_train,y2_train)\n",
    "SVM3 = svm.SVC(C=float(c3),kernel=str(k3),gamma=float(g3),decision_function_shape='ovo').fit(X3_train,y3_train)\n",
    "\n",
    "\n",
    "svm1_pred = SVM1.predict(X1_test)\n",
    "svm2_pred = SVM2.predict(X2_test)\n",
    "svm3_pred = SVM3.predict(X3_test)\n",
    "\n",
    "pred = pd.DataFrame(list(zip(y1_test, svm1_pred,svm2_pred,svm3_pred)), columns=['y_act','y_svm','y_svm_stand','y_svm_norm'])\n",
    "pred.index.name = 'Obs'\n",
    "pred"
   ]
  },
  {
   "cell_type": "markdown",
   "metadata": {},
   "source": [
    "## Results\n",
    "Accuracy, confusion matrix, and classification reports are returned for each design matirx."
   ]
  },
  {
   "cell_type": "code",
   "execution_count": null,
   "metadata": {},
   "outputs": [],
   "source": [
    "cm_svm1 = pd.DataFrame(metrics.confusion_matrix(y1_test, svm1_pred), index = ['Fail(0)','Pass(1)','Inc(2)'],columns=['Fail(0)','Pass(1)','Inc(2)'])\n",
    "cm_svm2 = pd.DataFrame(metrics.confusion_matrix(y2_test, svm2_pred), index = ['Fail(0)','Pass(1)','Inc(2)'],columns=['Fail(0)','Pass(1)','Inc(2)'])\n",
    "cm_svm3 = pd.DataFrame(metrics.confusion_matrix(y3_test, svm3_pred), index = ['Fail(0)','Pass(1)','Inc(2)'],columns=['Fail(0)','Pass(1)','Inc(2)'])\n",
    "\n",
    "zero = 0\n",
    "one = 0\n",
    "two = 0\n",
    "for i in y1_train:\n",
    "    if i == 0:\n",
    "        zero += 1\n",
    "    elif i == 1:\n",
    "        one += 1\n",
    "    else:\n",
    "        two += 1\n",
    "num1 = round(zero/len(y1_train),2)\n",
    "num2 = round(one/len(y1_train),2)\n",
    "num3 = round(two/len(y1_train),2)\n",
    "print(\"The response vector has the following distribution: \\nzeros: %r \\nones: %r \\ntwos: %r\" % (num1,num2,num3))\n",
    "print(\"\\n\")\n",
    "\n",
    "print (\"The accuracy of the Non-standardized SVM model is: \", SVM1.score(X1_test,y1_test))\n",
    "print (\"\\n\")\n",
    "print (\"The accuracy of the standardized SVM model is: \", SVM2.score(X2_test,y2_test))\n",
    "print (\"\\n\")\n",
    "print (\"The accuracy of the normalized SVM model is: \", SVM3.score(X3_test,y3_test))\n",
    "print (\"\\n\")\n",
    "\n",
    "print(\"Non-standarized SVM Confusion Matrix: \\n\", cm_svm1)\n",
    "print (\"\\n\")\n",
    "print(\"Standarized SVM Confusion Matrix: \\n\", cm_svm2)\n",
    "print (\"\\n\")\n",
    "print(\"Normalized SVM Confusion Matrix: \\n\", cm_svm3)\n",
    "print (\"\\n\")\n",
    "\n",
    "print(\"Classification report for Non-standardized design matrix:\\n\", metrics.classification_report(y1_test,svm1_pred))\n",
    "print(\"\\n\")\n",
    "print(\"Classification report for standardized design matrix:\\n\", metrics.classification_report(y2_test,svm2_pred))\n",
    "print(\"\\n\")\n",
    "print(\"Classification report for Normalized design matrix:\\n\", metrics.classification_report(y3_test,svm3_pred))"
   ]
  }
 ],
 "metadata": {
  "kernelspec": {
   "display_name": "Python 3",
   "language": "python",
   "name": "python3"
  },
  "language_info": {
   "codemirror_mode": {
    "name": "ipython",
    "version": 3
   },
   "file_extension": ".py",
   "mimetype": "text/x-python",
   "name": "python",
   "nbconvert_exporter": "python",
   "pygments_lexer": "ipython3",
   "version": "3.6.1"
  }
 },
 "nbformat": 4,
 "nbformat_minor": 2
}
